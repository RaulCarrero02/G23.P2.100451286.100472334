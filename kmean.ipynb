{
 "cells": [
  {
   "cell_type": "markdown",
   "metadata": {},
   "source": [
    "## Grupo 23\n",
    "\n",
    "**Nombre:** Raúl Miguel Carrero Martín \n",
    "**Nia**: 100451286 \n",
    "**Grupo de clase**: 81\n",
    "\n",
    "**Nombre:** Gonzalo Vela Sacristán\n",
    "**Nia**: 100472334\n",
    "**Grupo de clase**: 84"
   ]
  },
  {
   "cell_type": "code",
   "execution_count": null,
   "metadata": {},
   "outputs": [],
   "source": [
    "%pip install numpy\n",
    "%pip install pandas\n",
    "%pip install matplotlib\n",
    "%pip install seaborn\n",
    "%pip install pickle\n",
    "%pip install time\n",
    "%pip install scikit-learn"
   ]
  },
  {
   "cell_type": "markdown",
   "metadata": {},
   "source": [
    "# Importación de los datos y librerias"
   ]
  },
  {
   "cell_type": "code",
   "execution_count": null,
   "metadata": {},
   "outputs": [],
   "source": [
    "# Tratamiento de datos\n",
    "# ==============================================================================\n",
    "import numpy as np\n",
    "import pandas as pd\n",
    "from sklearn.datasets import make_blobs\n",
    "\n",
    "# Gráficos\n",
    "# ==============================================================================\n",
    "import matplotlib.pyplot as plt\n",
    "import matplotlib.cm as cm\n",
    "from matplotlib import style\n",
    "style.use('ggplot') \n",
    "\n",
    "\n",
    "# Preprocesado y modelado\n",
    "# ==============================================================================\n",
    "from sklearn.cluster import KMeans\n",
    "from sklearn.preprocessing import scale, StandardScaler\n",
    "from sklearn.metrics import silhouette_score, silhouette_samples\n",
    "from scipy.spatial.distance import cdist\n",
    "from sklearn.decomposition import PCA\n",
    "from sklearn.manifold import TSNE\n",
    "from sklearn.datasets import make_blobs\n",
    "from sklearn.preprocessing import OrdinalEncoder\n",
    "from sklearn.preprocessing import OneHotEncoder\n"
   ]
  },
  {
   "cell_type": "markdown",
   "metadata": {},
   "source": [
    "## Importar los datos"
   ]
  },
  {
   "cell_type": "code",
   "execution_count": null,
   "metadata": {},
   "outputs": [],
   "source": [
    "data = pd.read_csv(\"data/Stars2.csv\")\n",
    "display(data)\n",
    "\n",
    "# Copiamos los datos y los estandarizamos\n",
    "# ==============================================================================\n",
    "data_df = data[['Temperature', 'L', 'R', 'A_M', 'Color', 'Spectral_Class']].copy()\n",
    "\n",
    "print(\"Cantidad de filas y columnas: \", data_df.shape)\n",
    "print(\"Nombre de las columnas: \", data_df.columns)\n",
    "\n",
    "\n"
   ]
  },
  {
   "cell_type": "code",
   "execution_count": null,
   "metadata": {},
   "outputs": [],
   "source": [
    "# Mostramos las columnas con valores nulos\n",
    "print(\"Columnas con valores nulos: \")\n",
    "print(data_df.isnull().sum())"
   ]
  },
  {
   "cell_type": "code",
   "execution_count": null,
   "metadata": {},
   "outputs": [],
   "source": [
    "# Mostramos las columnas con NaN\n",
    "print(\"Columnas con NaN: \")\n",
    "print(data_df.isna().sum())"
   ]
  },
  {
   "cell_type": "code",
   "execution_count": null,
   "metadata": {},
   "outputs": [],
   "source": [
    "print(\"Estadísticas de las variables:\")\n",
    "print(data_df.describe())"
   ]
  },
  {
   "cell_type": "markdown",
   "metadata": {},
   "source": [
    "# 1.- Kmeans "
   ]
  },
  {
   "cell_type": "code",
   "execution_count": null,
   "metadata": {},
   "outputs": [],
   "source": [
    "np.random.seed(123)\n",
    "def distancia(a, b):\n",
    "    return np.sqrt(np.sum((a - b)**2))\n",
    "\n",
    "def kmeans(datos, k, max_iter=100):\n",
    "    # Inicialización aleatoria de los centroides\n",
    "    centroides_indices = np.random.choice(len(datos), k, replace=False)\n",
    "    centroides = datos[centroides_indices]\n",
    "    threshold = 0.001\n",
    "\n",
    "    for iteration in range(max_iter):\n",
    "        # Asignar cada punto al centroide más cercano\n",
    "        asignaciones = []\n",
    "        for dato in datos:\n",
    "            distancias = []\n",
    "            for centroide in centroides:\n",
    "                distancias.append(distancia(dato, centroide))\n",
    "            asignacion = np.argmin(distancias)\n",
    "            asignaciones.append(asignacion)\n",
    "\n",
    "        # Actualizar los centroides\n",
    "        nuevos_centroides = []\n",
    "        for j in range(k):\n",
    "            puntos_asignados = []\n",
    "            for i in range(len(datos)):\n",
    "                punto_asignado = [datos[i], asignaciones[i]]\n",
    "                if punto_asignado[1] == j:\n",
    "                    puntos_asignados.append(datos[i])\n",
    "            nuevo_centroide = np.mean(puntos_asignados, axis=0)\n",
    "            nuevos_centroides.append(nuevo_centroide)\n",
    "        nuevos_centroides = np.array(nuevos_centroides)\n",
    "\n",
    "        d_centroides = []\n",
    "        for i in range(k):\n",
    "            d_centroides.append(distancia(centroides[i], nuevos_centroides[i]))\n",
    "        if np.max(d_centroides) < threshold:\n",
    "            print(\"Iteración final: \", iteration)\n",
    "            print(\"Centroides finales: \", nuevos_centroides )\n",
    "            break\n",
    "\n",
    "        centroides = nuevos_centroides\n",
    "\n",
    "    return centroides, asignaciones"
   ]
  },
  {
   "cell_type": "markdown",
   "metadata": {},
   "source": [
    "# 2.- Encoding de los datos categóricos"
   ]
  },
  {
   "cell_type": "markdown",
   "metadata": {},
   "source": [
    "Primero observamos los valores de las variables categóricas"
   ]
  },
  {
   "cell_type": "code",
   "execution_count": null,
   "metadata": {},
   "outputs": [],
   "source": [
    "print(\"Valores de la columna Color: \")\n",
    "print(data_df.Color.unique())\n",
    "\n",
    "print(\"Valores de la columna Spectral_Class: \")\n",
    "print(data_df.Spectral_Class.unique())"
   ]
  },
  {
   "cell_type": "markdown",
   "metadata": {},
   "source": [
    "Mapeamos los valores obtenidos de las columnas *Color* y *Spectral Class*."
   ]
  },
  {
   "cell_type": "code",
   "execution_count": null,
   "metadata": {},
   "outputs": [],
   "source": [
    "# Establecemos una unificación de colores:\n",
    "mapping_color = { \n",
    "    'Red': ['Red'],\n",
    "    'Orange-Red': ['Orange-Red'],\n",
    "    'Orange': ['Orange'],\n",
    "    'Yellow-Orange': ['Pale yellow orange'],\n",
    "    'Yellow': ['yellowish', 'Yellowish'],\n",
    "    'White-Yellow': ['Yellowish White', 'yellow-white', 'White-Yellow'],\n",
    "    'White': ['White', 'Whitish', 'white'],\n",
    "    'Blue-White': ['Blue White', 'Blue white', 'Blue-white', 'Blue-White'],\n",
    "    'Blue': ['Blue'],\n",
    "}\n",
    "\n",
    "# Establecemos una unificación de colores:\n",
    "mapping_spectral = {\n",
    "    'M': ['M'],\n",
    "    'K': ['K'],\n",
    "    'G': ['G'],\n",
    "    'F': ['F'],\n",
    "    'A': ['A'],\n",
    "    'B': ['B'],\n",
    "    'O': ['O'],\n",
    "}"
   ]
  },
  {
   "cell_type": "code",
   "execution_count": null,
   "metadata": {},
   "outputs": [],
   "source": [
    "# Mapeamos los datos\n",
    "for target_color, source_colors in mapping_color.items():\n",
    "  data_df.loc[data_df.Color.isin(source_colors), 'Color'] = target_color\n",
    "\n",
    "print(\"Valores de la columna Color: \")\n",
    "print(data_df.Color.unique())"
   ]
  },
  {
   "cell_type": "markdown",
   "metadata": {},
   "source": [
    "## 2.1.- One-Hot-Encoding"
   ]
  },
  {
   "cell_type": "code",
   "execution_count": null,
   "metadata": {},
   "outputs": [],
   "source": [
    "one_hot_df = data_df.copy()\n",
    "\n",
    "encoder = OneHotEncoder()\n",
    "\n",
    "# Ajustamos el codificador y transformamos las columnas\n",
    "one_hot_encoded = encoder.fit_transform(one_hot_df[['Color', 'Spectral_Class']])\n",
    "\n",
    "# Cogemos los nombres de las nuevas columnas\n",
    "feature_names = encoder.get_feature_names_out(['Color', 'Spectral_Class'])\n",
    "\n",
    "# Creamos un DataFrame con los datos transformados\n",
    "one_hot_encoded_df = pd.DataFrame(one_hot_encoded.toarray(), columns=feature_names)\n",
    "\n",
    "# Eliminamos las columnas originales\n",
    "one_hot_df = one_hot_df.drop(columns=['Color', 'Spectral_Class'])\n",
    "\n",
    "# Añadimos las nuevas columnas\n",
    "one_hot_df = pd.concat([one_hot_df, one_hot_encoded_df], axis=1)\n",
    "\n",
    "display(one_hot_df)\n"
   ]
  },
  {
   "cell_type": "markdown",
   "metadata": {},
   "source": [
    "## 2.2.- Ordinal Encoding"
   ]
  },
  {
   "cell_type": "code",
   "execution_count": null,
   "metadata": {},
   "outputs": [],
   "source": [
    "# Obtenemos los colores ordenados (directamente del mapping!)\n",
    "colors = list(mapping_color.keys())\n",
    "\n",
    "\n",
    "oe = OrdinalEncoder(categories=[colors])\n",
    "color_encoded = oe.fit_transform(data_df.Color.values.reshape(-1, 1))\n",
    "\n",
    "\n",
    "# Obtenemos los colores ordenados (directamente del mapping!)\n",
    "spectral = list(mapping_spectral.keys())\n",
    "\n",
    "\n",
    "oe = OrdinalEncoder(categories=[spectral])\n",
    "spectral_encoded = oe.fit_transform(data_df.Spectral_Class.values.reshape(-1, 1))"
   ]
  },
  {
   "cell_type": "code",
   "execution_count": null,
   "metadata": {},
   "outputs": [],
   "source": [
    "ordinal_df = data_df.copy()\n",
    "\n",
    "# cambiamos los valores de las columnas categóricas a numéricas\n",
    "ordinal_df['Color'] = color_encoded\n",
    "ordinal_df['Spectral_Class'] = spectral_encoded\n",
    "\n",
    "display(ordinal_df)\n"
   ]
  },
  {
   "cell_type": "markdown",
   "metadata": {},
   "source": [
    "# 3.- Modelos"
   ]
  },
  {
   "cell_type": "markdown",
   "metadata": {},
   "source": [
    "## 3.1- PCA"
   ]
  },
  {
   "cell_type": "code",
   "execution_count": null,
   "metadata": {},
   "outputs": [],
   "source": [
    "\n",
    "scaler = StandardScaler()\n",
    "pca = PCA(n_components=2)\n",
    "\n",
    "one_hot_scaled = scaler.fit_transform(ordinal_df)\n",
    "ordinal_scaled = scaler.fit_transform(ordinal_df)\n",
    "\n",
    "# Reducción de la dimensionalidad\n",
    "\n",
    "X_one_hot_pca = pca.fit_transform(one_hot_scaled)\n",
    "X_ordinal_pca = pca.fit_transform(ordinal_scaled)\n",
    "\n",
    "# Represenantamos los datos en dos gráficas diferentes\n",
    "fig, axs = plt.subplots(1, 2, figsize=(15, 5))\n",
    "\n",
    "axs[0].scatter(X_one_hot_pca[:, 0], X_one_hot_pca[:, 1], s=50)\n",
    "axs[0].set_title('One Hot Encoding')\n",
    "axs[0].set_xlabel('Componente 1')\n",
    "axs[0].set_ylabel('Componente 2')\n",
    "\n",
    "axs[1].scatter(X_ordinal_pca[:, 0], X_ordinal_pca[:, 1], s=50)\n",
    "axs[1].set_title('Ordinal Encoding')\n",
    "axs[1].set_xlabel('Componente 1')\n",
    "axs[1].set_ylabel('Componente 2')\n",
    "\n",
    "plt.show()"
   ]
  },
  {
   "cell_type": "code",
   "execution_count": null,
   "metadata": {},
   "outputs": [],
   "source": [
    "\n",
    "# Número óptimo de clústeres\n",
    "# ==============================================================================\n",
    "inertia_oh = []\n",
    "inertia_ordinal = []\n",
    "for i in range(1, 11):\n",
    "    kmeans = KMeans(n_clusters=i, random_state=123).fit(X_ordinal_pca)\n",
    "    inertia_ordinal.append(kmeans.inertia_)\n",
    "\n",
    "for i in range(1, 11):\n",
    "    kmeans = KMeans(n_clusters=i, random_state=123).fit(X_one_hot_pca)\n",
    "    inertia_oh.append(kmeans.inertia_)\n",
    "\n",
    "# Representación de los dato en dos gráficos\n",
    "fig, axs = plt.subplots(1, 2, figsize=(15, 5))\n",
    "\n",
    "axs[0].plot(range(1, 11), inertia_oh, marker='o')\n",
    "axs[0].set_title('One Hot Encoding')\n",
    "axs[0].set_xlabel('Número de clústeres')\n",
    "axs[0].set_ylabel('Inertia')\n",
    "\n",
    "axs[1].plot(range(1, 11), inertia_ordinal, marker='o')\n",
    "axs[1].set_title('Ordinal Encoding')\n",
    "axs[1].set_xlabel('Número de clústeres')\n",
    "axs[1].set_ylabel('Inertia')\n",
    "\n",
    "plt.show()\n"
   ]
  },
  {
   "cell_type": "code",
   "execution_count": null,
   "metadata": {},
   "outputs": [],
   "source": [
    "# Silhouette Score\n",
    "silhouette_oh = []\n",
    "silhouette_ordinal = []\n",
    "for i in range(2, 11):\n",
    "    kmeans = KMeans(n_clusters=i, random_state=123).fit(X_ordinal_pca)\n",
    "    silhouette_ordinal.append(silhouette_score(X_ordinal_pca, kmeans.labels_))\n",
    "\n",
    "for i in range(2, 11):\n",
    "    kmeans = KMeans(n_clusters=i, random_state=123).fit(X_one_hot_pca)\n",
    "    silhouette_oh.append(silhouette_score(X_one_hot_pca, kmeans.labels_))\n",
    "\n",
    "# Representación de los datos en dos gráficos\n",
    "fig, axs = plt.subplots(1, 2, figsize=(15, 5))\n",
    "\n",
    "axs[0].plot(range(2, 11), silhouette_oh, marker='o')\n",
    "axs[0].set_title('One Hot Encoding')\n",
    "axs[0].set_xlabel('Número de clústeres')\n",
    "axs[0].set_ylabel('Silhouette Score')\n",
    "\n",
    "axs[1].plot(range(2, 11), silhouette_ordinal, marker='o')\n",
    "axs[1].set_title('Ordinal Encoding')\n",
    "axs[1].set_xlabel('Número de clústeres')\n",
    "axs[1].set_ylabel('Silhouette Score')\n",
    "\n",
    "plt.show()"
   ]
  },
  {
   "cell_type": "markdown",
   "metadata": {},
   "source": [
    "## 3.2.- Modelos para One Hot Encoding"
   ]
  },
  {
   "cell_type": "markdown",
   "metadata": {},
   "source": [
    "### Algoritmo Kmeans"
   ]
  },
  {
   "cell_type": "code",
   "execution_count": null,
   "metadata": {},
   "outputs": [],
   "source": [
    "# Aplicar KMeans a los datos transformados por PCA\n",
    "centroides, asignaciones = kmeans(X_one_hot_pca, k=6)\n",
    "plt.figure(figsize=(10, 7))\n",
    "for i in np.unique(asignaciones):\n",
    "    plt.scatter(\n",
    "        x = X_one_hot_pca[np.array(asignaciones) == i, 0],\n",
    "        y = X_one_hot_pca[np.array(asignaciones) == i, 1],\n",
    "        c = plt.rcParams['axes.prop_cycle'].by_key()['color'][i % len(plt.rcParams['axes.prop_cycle'].by_key()['color'])],\n",
    "        marker    = 'o',\n",
    "        edgecolor = 'black',\n",
    "        label= f\"Cluster {i}\"\n",
    "    )\n",
    "\n",
    "plt.scatter(\n",
    "    x = centroides[:, 0],\n",
    "    y = centroides[:, 1],\n",
    "    c = 'black',\n",
    "    s = 200,\n",
    "    marker = '*',\n",
    "    label  = 'centroides'\n",
    ")\n",
    "plt.title('Clusters generados por Kmeans para datos one-hot codificados y escalados')\n",
    "plt.legend()\n",
    "plt.show()"
   ]
  },
  {
   "cell_type": "markdown",
   "metadata": {},
   "source": [
    "### Kmeans scikit"
   ]
  },
  {
   "cell_type": "code",
   "execution_count": null,
   "metadata": {},
   "outputs": [],
   "source": [
    "# Kmeans with scikit-learn\n",
    "kmeans = KMeans(n_clusters=6, random_state=123)\n",
    "kmeans.fit(X_one_hot_pca)\n",
    "y_predict = kmeans.predict(X_one_hot_pca)\n",
    "\n",
    "plt.figure(figsize=(10, 7))\n",
    "for i in np.unique(y_predict):\n",
    "    plt.scatter(\n",
    "        x = X_one_hot_pca[y_predict == i, 0],\n",
    "        y = X_one_hot_pca[y_predict == i, 1],\n",
    "        c = plt.rcParams['axes.prop_cycle'].by_key()['color'][i % len(plt.rcParams['axes.prop_cycle'].by_key()['color'])],\n",
    "        marker    = 'o',\n",
    "        edgecolor = 'black',\n",
    "        label= f\"Cluster {i}\"\n",
    "    )\n",
    "\n",
    "plt.scatter(\n",
    "    x = kmeans.cluster_centers_[:, 0],\n",
    "    y = kmeans.cluster_centers_[:, 1],\n",
    "    c = 'black',\n",
    "    s = 200,\n",
    "    marker = '*',\n",
    "    label  = 'centroides'\n",
    ")\n",
    "\n",
    "plt.title('Clusters generados por Kmeans para datos one-hot codificados y escalados')\n",
    "plt.legend()\n",
    "plt.show()"
   ]
  },
  {
   "cell_type": "markdown",
   "metadata": {},
   "source": [
    "## 3.3.- Modelos con Ordinal Encoding"
   ]
  },
  {
   "cell_type": "markdown",
   "metadata": {},
   "source": [
    "### Kmeans propio"
   ]
  },
  {
   "cell_type": "code",
   "execution_count": null,
   "metadata": {},
   "outputs": [],
   "source": [
    "\n",
    "# Aplicar KMeans a los datos transformados por PCA\n",
    "centroides, asignaciones = kmeans(X_ordinal_pca, k=6)\n",
    "plt.figure(figsize=(10, 7))\n",
    "for i in np.unique(asignaciones):\n",
    "    plt.scatter(\n",
    "        x = X_ordinal_pca[np.array(asignaciones) == i, 0],\n",
    "        y = X_ordinal_pca[np.array(asignaciones) == i, 1],\n",
    "        c = plt.rcParams['axes.prop_cycle'].by_key()['color'][i % len(plt.rcParams['axes.prop_cycle'].by_key()['color'])],\n",
    "        marker = 'o',\n",
    "        edgecolor = 'black',\n",
    "        label= f\"Cluster {i}\"\n",
    "    )\n",
    "\n",
    "plt.scatter(\n",
    "    x = centroides[:, 0],\n",
    "    y = centroides[:, 1],\n",
    "    c = 'black',\n",
    "    s = 200,\n",
    "    marker = '*',\n",
    "    label  = 'centroides'\n",
    ")\n",
    "plt.title('Clusters generados por Kmeans para datos escalados')\n",
    "plt.legend()\n",
    "plt.show()"
   ]
  },
  {
   "cell_type": "markdown",
   "metadata": {},
   "source": [
    "### Kmean scikit"
   ]
  },
  {
   "cell_type": "code",
   "execution_count": null,
   "metadata": {},
   "outputs": [],
   "source": [
    "kmeans = KMeans(n_clusters=6, random_state=123)\n",
    "kmeans.fit(X_ordinal_pca)\n",
    "y_predict=kmeans.predict(X_ordinal_pca)\n",
    "\n",
    "plt.figure(figsize=(10, 7))\n",
    "for i in np.unique(y_predict):\n",
    "    plt.scatter(\n",
    "        x = X_ordinal_pca[np.array(y_predict) == i, 0],\n",
    "        y = X_ordinal_pca[np.array(y_predict) == i, 1],\n",
    "        c = plt.rcParams['axes.prop_cycle'].by_key()['color'][i % len(plt.rcParams['axes.prop_cycle'].by_key()['color'])],\n",
    "        marker = 'o',\n",
    "        edgecolor = 'black',\n",
    "        label= f\"Cluster {i}\"\n",
    "    )\n",
    "\n",
    "plt.scatter(\n",
    "    kmeans.cluster_centers_[:, 0],\n",
    "    kmeans.cluster_centers_[:, 1],\n",
    "    s = 200,\n",
    "    c = 'black',\n",
    "    marker = '*',\n",
    "    label  = 'centroides'\n",
    ")\n",
    "plt.title('Clusters generados por scikit.Kmeans para datos escalados')\n",
    "plt.legend()\n",
    "\n",
    "\n"
   ]
  },
  {
   "cell_type": "markdown",
   "metadata": {},
   "source": [
    "## Hierarchical Clustering"
   ]
  },
  {
   "cell_type": "code",
   "execution_count": null,
   "metadata": {},
   "outputs": [],
   "source": [
    "# hierarchical clustering para one hot encoding\n",
    "from sklearn.cluster import AgglomerativeClustering\n",
    "from scipy.cluster.hierarchy import dendrogram, linkage\n",
    "\n",
    "# Aplicamos el clustering jerárquico\n",
    "clustering = AgglomerativeClustering(n_clusters=6, affinity='euclidean', linkage='ward')\n",
    "y_pred = clustering.fit_predict(X_one_hot_pca)\n",
    "\n",
    "# Representamos los clusters\n",
    "plt.figure(figsize=(10, 7))\n",
    "for i in np.unique(y_pred):\n",
    "    plt.scatter(\n",
    "        x = X_one_hot_pca[y_pred == i, 0],\n",
    "        y = X_one_hot_pca[y_pred == i, 1],\n",
    "        c = plt.rcParams['axes.prop_cycle'].by_key()['color'][i % len(plt.rcParams['axes.prop_cycle'].by_key()['color'])],\n",
    "        marker = 'o',\n",
    "        edgecolor = 'black',\n",
    "        label= f\"Cluster {i}\"\n",
    "    )\n",
    "plt.title('Clusters generados por clustering jerárquico para datos one-hot codificados y escalados')\n",
    "plt.legend()\n",
    "plt.show()\n",
    "\n",
    "# Representamos el dendrograma\n",
    "Z = linkage(X_one_hot_pca, 'ward')\n",
    "plt.figure(figsize=(25, 10))\n",
    "dendrogram(Z)\n",
    "plt.show()\n",
    "\n"
   ]
  }
 ],
 "metadata": {
  "kernelspec": {
   "display_name": "Python 3",
   "language": "python",
   "name": "python3"
  },
  "language_info": {
   "codemirror_mode": {
    "name": "ipython",
    "version": 3
   },
   "file_extension": ".py",
   "mimetype": "text/x-python",
   "name": "python",
   "nbconvert_exporter": "python",
   "pygments_lexer": "ipython3",
   "version": "3.7.0"
  }
 },
 "nbformat": 4,
 "nbformat_minor": 2
}
